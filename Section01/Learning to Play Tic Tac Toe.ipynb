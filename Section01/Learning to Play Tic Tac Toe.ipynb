{
 "cells": [
  {
   "cell_type": "code",
   "execution_count": 1,
   "metadata": {},
   "outputs": [],
   "source": [
    "import tensorflow as tf\n",
    "import matplotlib.pyplot as plt\n",
    "import csv\n",
    "import random\n",
    "import numpy as np\n",
    "import random\n",
    "from tensorflow.python.framework import ops\n",
    "ops.reset_default_graph()"
   ]
  },
  {
   "cell_type": "code",
   "execution_count": 2,
   "metadata": {},
   "outputs": [],
   "source": [
    "batch_size = 50\n",
    "symmetry = ['rotate180', 'rotate90', 'rotate270', 'flip_v', 'flip_h']"
   ]
  },
  {
   "cell_type": "code",
   "execution_count": 3,
   "metadata": {},
   "outputs": [],
   "source": [
    "def print_board(board):\n",
    "    symbols = ['O',' ','X']\n",
    "    board_plus1 = [int(x) + 1 for x in board]\n",
    "    print(' ' + symbols[board_plus1[0]] + ' | ' + symbols[board_plus1[1]] + ' | ' + symbols[board_plus1[2]])\n",
    "    print('___________')\n",
    "    print(' ' + symbols[board_plus1[3]] + ' | ' + symbols[board_plus1[4]] + ' | ' + symbols[board_plus1[5]])\n",
    "    print('___________')\n",
    "    print(' ' + symbols[board_plus1[6]] + ' | ' + symbols[board_plus1[7]] + ' | ' + symbols[board_plus1[8]])"
   ]
  },
  {
   "cell_type": "code",
   "execution_count": 4,
   "metadata": {},
   "outputs": [],
   "source": [
    "def get_symmetry(board, response, transformation):\n",
    "    '''\n",
    "    :param board: list of integers 9 long:\n",
    "     opposing mark = -1\n",
    "     friendly mark = 1\n",
    "     empty space = 0\n",
    "    :param transformation: one of five transformations on a board:\n",
    "     'rotate180', 'rotate90', 'rotate270', 'flip_v', 'flip_h'\n",
    "    :return: tuple: (new_board, new_response)\n",
    "    '''\n",
    "    if transformation == 'rotate180':\n",
    "        new_response = 8 - response\n",
    "        return(board[::-1], new_response)\n",
    "    elif transformation == 'rotate90':\n",
    "        new_response = [6, 3, 0, 7, 4, 1, 8, 5, 2].index(response)\n",
    "        tuple_board = list(zip(*[board[6:9], board[3:6], board[0:3]]))\n",
    "        return([value for item in tuple_board for value in item], new_response)\n",
    "    elif transformation == 'rotate270':\n",
    "        new_response = [2, 5, 8, 1, 4, 7, 0, 3, 6].index(response)\n",
    "        tuple_board = list(zip(*[board[0:3], board[3:6], board[6:9]]))[::-1]\n",
    "        return([value for item in tuple_board for value in item], new_response)\n",
    "    elif transformation == 'flip_v':\n",
    "        new_response = [6, 7, 8, 3, 4, 5, 0, 1, 2].index(response)\n",
    "        return(board[6:9] +  board[3:6] + board[0:3], new_response)\n",
    "    elif transformation == 'flip_h':  # flip_h = rotate180, then flip_v\n",
    "        new_response = [2, 1, 0, 5, 4, 3, 8, 7, 6].index(response)\n",
    "        new_board = board[::-1]\n",
    "        return(new_board[6:9] +  new_board[3:6] + new_board[0:3], new_response)\n",
    "    else:\n",
    "        raise ValueError('Method not implmented.')"
   ]
  },
  {
   "cell_type": "code",
   "execution_count": 5,
   "metadata": {},
   "outputs": [],
   "source": [
    "def get_moves_from_csv(csv_file):\n",
    "    '''\n",
    "    :param csv_file: csv file location containing the boards w/ responses\n",
    "    :return: moves: list of moves with index of best response\n",
    "    '''\n",
    "    moves = []\n",
    "    with open(csv_file, 'rt') as csvfile:\n",
    "        reader = csv.reader(csvfile, delimiter=',')\n",
    "        for row in reader:\n",
    "            moves.append(([int(x) for x in row[0:9]],int(row[9])))\n",
    "    return(moves)"
   ]
  },
  {
   "cell_type": "code",
   "execution_count": 6,
   "metadata": {},
   "outputs": [],
   "source": [
    "def get_rand_move(moves, rand_transforms=2):\n",
    "    '''\n",
    "    :param moves: list of the boards w/responses\n",
    "    :param rand_transforms: how many random transforms performed on each\n",
    "    :return: (board, response), board is a list of 9 integers, response is 1 int\n",
    "    '''\n",
    "    (board, response) = random.choice(moves)\n",
    "    possible_transforms = ['rotate90', 'rotate180', 'rotate270', 'flip_v', 'flip_h']\n",
    "    for i in range(rand_transforms):\n",
    "        random_transform = random.choice(possible_transforms)\n",
    "        (board, response) = get_symmetry(board, response, random_transform)\n",
    "    return(board, response)"
   ]
  },
  {
   "cell_type": "code",
   "execution_count": 7,
   "metadata": {},
   "outputs": [],
   "source": [
    "sess = tf.Session()\n",
    "moves = get_moves_from_csv('base_tic_tac_toe_moves.csv')\n",
    "train_length = 500\n",
    "train_set = []\n",
    "for t in range(train_length):\n",
    "    train_set.append(get_rand_move(moves))"
   ]
  },
  {
   "cell_type": "code",
   "execution_count": 8,
   "metadata": {},
   "outputs": [],
   "source": [
    "test_board = [-1, 0, 0, 1, -1, -1, 0, 0, 1]\n",
    "train_set = [x for x in train_set if x[0] != test_board]"
   ]
  },
  {
   "cell_type": "code",
   "execution_count": 9,
   "metadata": {},
   "outputs": [],
   "source": [
    "def init_weights(shape):\n",
    "    return(tf.Variable(tf.random_normal(shape)))\n",
    "\n",
    "\n",
    "def model(X, A1, A2, bias1, bias2):\n",
    "    layer1 = tf.nn.sigmoid(tf.add(tf.matmul(X, A1), bias1))\n",
    "    layer2 = tf.add(tf.matmul(layer1, A2), bias2)\n",
    "    return(layer2)"
   ]
  },
  {
   "cell_type": "code",
   "execution_count": 10,
   "metadata": {},
   "outputs": [],
   "source": [
    "X = tf.placeholder(dtype=tf.float32, shape=[None, 9])\n",
    "Y = tf.placeholder(dtype=tf.int32, shape=[None])\n",
    "\n",
    "A1 = init_weights([9, 81])\n",
    "bias1 = init_weights([81])\n",
    "A2 = init_weights([81, 9])\n",
    "bias2 = init_weights([9])\n",
    "\n",
    "model_output = model(X, A1, A2, bias1, bias2)"
   ]
  },
  {
   "cell_type": "code",
   "execution_count": 11,
   "metadata": {},
   "outputs": [],
   "source": [
    "loss = tf.reduce_mean(tf.nn.sparse_softmax_cross_entropy_with_logits(logits=model_output, labels=Y))\n",
    "train_step = tf.train.GradientDescentOptimizer(0.025).minimize(loss)\n",
    "prediction = tf.argmax(model_output, 1)"
   ]
  },
  {
   "cell_type": "code",
   "execution_count": 12,
   "metadata": {},
   "outputs": [
    {
     "name": "stdout",
     "output_type": "stream",
     "text": [
      "iteration 0 Loss: 8.60515\n",
      "iteration 500 Loss: 1.88184\n",
      "iteration 1000 Loss: 1.63089\n",
      "iteration 1500 Loss: 1.23882\n",
      "iteration 2000 Loss: 1.20562\n",
      "iteration 2500 Loss: 1.4494\n",
      "iteration 3000 Loss: 1.19227\n",
      "iteration 3500 Loss: 0.892312\n",
      "iteration 4000 Loss: 0.998839\n",
      "iteration 4500 Loss: 1.1717\n",
      "iteration 5000 Loss: 1.03103\n",
      "iteration 5500 Loss: 1.07898\n",
      "iteration 6000 Loss: 1.02718\n",
      "iteration 6500 Loss: 0.817845\n",
      "iteration 7000 Loss: 0.993813\n",
      "iteration 7500 Loss: 0.745871\n",
      "iteration 8000 Loss: 0.848545\n",
      "iteration 8500 Loss: 0.836112\n",
      "iteration 9000 Loss: 0.923733\n",
      "iteration 9500 Loss: 0.757212\n"
     ]
    }
   ],
   "source": [
    "init = tf.global_variables_initializer()\n",
    "sess.run(init)\n",
    "loss_vec = []\n",
    "for i in range(10000):\n",
    "    rand_indices = np.random.choice(range(len(train_set)), batch_size, replace=False)\n",
    "    batch_data = [train_set[i] for i in rand_indices]\n",
    "    x_input = [x[0] for x in batch_data]\n",
    "    y_target = np.array([y[1] for y in batch_data])\n",
    "    sess.run(train_step, feed_dict={X: x_input, Y: y_target})\n",
    "\n",
    "    temp_loss = sess.run(loss, feed_dict={X: x_input, Y: y_target})\n",
    "    loss_vec.append(temp_loss)\n",
    "    if i%500==0:\n",
    "        print('iteration ' + str(i) + ' Loss: ' + str(temp_loss))"
   ]
  },
  {
   "cell_type": "code",
   "execution_count": 13,
   "metadata": {},
   "outputs": [
    {
     "data": {
      "image/png": "[encoded data removed]",
      "text/plain": [
       "<matplotlib.figure.Figure at 0x5eeb6a0>"
      ]
     },
     "metadata": {},
     "output_type": "display_data"
    }
   ],
   "source": [
    "plt.plot(loss_vec, 'k-', label='Loss')\n",
    "plt.title('Loss (MSE) per Generation')\n",
    "plt.xlabel('Generation')\n",
    "plt.ylabel('Loss')\n",
    "plt.show()"
   ]
  },
  {
   "cell_type": "code",
   "execution_count": 14,
   "metadata": {},
   "outputs": [
    {
     "name": "stdout",
     "output_type": "stream",
     "text": [
      "[6]\n"
     ]
    }
   ],
   "source": [
    "test_boards = [test_board]\n",
    "feed_dict = {X: test_boards}\n",
    "logits = sess.run(model_output, feed_dict=feed_dict)\n",
    "predictions = sess.run(prediction, feed_dict=feed_dict)\n",
    "print(predictions)"
   ]
  },
  {
   "cell_type": "code",
   "execution_count": 15,
   "metadata": {},
   "outputs": [],
   "source": [
    "def check(board):\n",
    "    wins = [[0,1,2], [3,4,5], [6,7,8], [0,3,6], [1,4,7], [2,5,8], [0,4,8], [2,4,6]]\n",
    "    for i in range(len(wins)):\n",
    "        if board[wins[i][0]]==board[wins[i][1]]==board[wins[i][2]]==1.:\n",
    "            return(1)\n",
    "        elif board[wins[i][0]]==board[wins[i][1]]==board[wins[i][2]]==-1.:\n",
    "            return(1)\n",
    "    return(0)"
   ]
  },
  {
   "cell_type": "code",
   "execution_count": 16,
   "metadata": {},
   "outputs": [
    {
     "name": "stdout",
     "output_type": "stream",
     "text": [
      "Input index of your move (0-8): 0\n",
      "Model has moved\n",
      " X |   |  \n",
      "___________\n",
      "   |   |  \n",
      "___________\n",
      " O |   |  \n",
      "Input index of your move (0-8): 2\n",
      "Model has moved\n",
      " X | O | X\n",
      "___________\n",
      "   |   |  \n",
      "___________\n",
      " O |   |  \n",
      "Input index of your move (0-8): 8\n",
      "Model has moved\n",
      " X | O | X\n",
      "___________\n",
      "   |   |  \n",
      "___________\n",
      " O | O | X\n",
      "Input index of your move (0-8): 4\n",
      "Model has moved\n",
      " X | O | X\n",
      "___________\n",
      " O | X |  \n",
      "___________\n",
      " O | O | X\n",
      "Game Over!\n"
     ]
    }
   ],
   "source": [
    "game_tracker = [0., 0., 0., 0., 0., 0., 0., 0., 0.]\n",
    "win_logical = False\n",
    "num_moves = 0\n",
    "while not win_logical:\n",
    "    player_index = input('Input index of your move (0-8): ')\n",
    "    num_moves += 1\n",
    "    game_tracker[int(player_index)] = 1.\n",
    "    [potential_moves] = sess.run(model_output, feed_dict={X: [game_tracker]})\n",
    "    allowed_moves = [ix for ix,x in enumerate(game_tracker) if x==0.0]\n",
    "    model_move = np.argmax([x if ix in allowed_moves else -999.0 for ix,x in enumerate(potential_moves)])\n",
    "    game_tracker[int(model_move)] = -1.\n",
    "    print('Model has moved')\n",
    "    print_board(game_tracker)\n",
    "    if check(game_tracker)==1 or num_moves>=5:\n",
    "        print('Game Over!')\n",
    "        win_logical = True"
   ]
  },
  {
   "cell_type": "code",
   "execution_count": null,
   "metadata": {},
   "outputs": [],
   "source": []
  }
 ],
 "metadata": {
  "kernelspec": {
   "display_name": "Python 3",
   "language": "python",
   "name": "python3"
  },
  "language_info": {
   "codemirror_mode": {
    "name": "ipython",
    "version": 3
   },
   "file_extension": ".py",
   "mimetype": "text/x-python",
   "name": "python",
   "nbconvert_exporter": "python",
   "pygments_lexer": "ipython3",
   "version": "3.5.0"
  }
 },
 "nbformat": 4,
 "nbformat_minor": 2
}
